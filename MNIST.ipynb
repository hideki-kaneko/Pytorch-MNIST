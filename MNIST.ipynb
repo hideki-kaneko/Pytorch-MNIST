{
 "cells": [
  {
   "cell_type": "markdown",
   "metadata": {},
   "source": [
    "# MNIST with Pytorch"
   ]
  },
  {
   "cell_type": "code",
   "execution_count": 1,
   "metadata": {
    "collapsed": true
   },
   "outputs": [],
   "source": [
    "import torch\n",
    "import torch.nn as nn\n",
    "import torch.nn.functional as F\n",
    "import torch.optim as opt\n",
    "from tqdm import tqdm\n",
    "import numpy as np"
   ]
  },
  {
   "cell_type": "code",
   "execution_count": 88,
   "metadata": {
    "collapsed": true
   },
   "outputs": [],
   "source": [
    "class MyModel(nn.Module):\n",
    "    def __init__(self):\n",
    "        super(MyModel, self).__init__()\n",
    "        self.conv1 = nn.Conv2d(1, 64, kernel_size=3, padding=1, stride=1)\n",
    "        self.bn1 = nn.BatchNorm2d(64)\n",
    "        self.pool1 = nn.MaxPool2d(kernel_size=2)\n",
    "        self.conv2 = nn.Conv2d(64, 64, kernel_size=3, padding=1, stride=1)\n",
    "        self.bn2 = nn.BatchNorm2d(64)\n",
    "        self.drop1 = nn.Dropout2d(0.25)\n",
    "        self.pool2 = nn.MaxPool2d(kernel_size=2)\n",
    "        self.fc1 = nn.Linear(7*7*64, 256)\n",
    "        self.drop2 = nn.Dropout(0.5)\n",
    "        self.fc2 = nn.Linear(256, 10)\n",
    "        \n",
    "    def forward(self, x):\n",
    "        x = F.relu(self.conv1(x))\n",
    "        x = self.bn1(x)\n",
    "        x = self.pool1(x)\n",
    "        x = F.relu(self.conv2(x))\n",
    "        x = self.bn2(x)\n",
    "        x = self.drop1(x)\n",
    "        x = self.pool2(x)\n",
    "        x = x.view(-1, 7*7*64)\n",
    "        x = F.relu(self.fc1(x))\n",
    "        x = self.drop2(x)\n",
    "        x = F.relu(self.fc2(x))\n",
    "        x = F.softmax(x, dim=1)\n",
    "        return x"
   ]
  },
  {
   "cell_type": "code",
   "execution_count": 3,
   "metadata": {},
   "outputs": [],
   "source": [
    "from torchvision.datasets import MNIST\n",
    "\n",
    "mnist_train = MNIST(\"./mnist\", train=True, download=True)\n",
    "mnist_test = MNIST(\"./mnist\", train=False, download=True)\n",
    "\n",
    "# convert to numpy for my practice\n",
    "x_train = mnist_train.train_data.numpy().reshape(-1,1,28,28)\n",
    "x_train = np.asarray(x_train, dtype=np.float32)/255.0\n",
    "y_train = mnist_train.train_labels.numpy() # not one-hot\n",
    "\n",
    "x_test = mnist_test.test_data.numpy().reshape(-1,1,28,28)\n",
    "x_test = np.asarray(x_test, dtype=np.float32)/255.0\n",
    "y_test = mnist_test.test_labels.numpy()\n",
    "\n",
    "\n",
    "train = torch.utils.data.TensorDataset(torch.from_numpy(x_train), torch.from_numpy(y_train))\n",
    "test = torch.utils.data.TensorDataset(torch.from_numpy(x_test), torch.from_numpy(y_test))\n",
    "\n",
    "train_loader = torch.utils.data.DataLoader(train, batch_size=128, shuffle=True)\n",
    "test_loader = torch.utils.data.DataLoader(test, batch_size=128, shuffle=True)"
   ]
  },
  {
   "cell_type": "code",
   "execution_count": 4,
   "metadata": {
    "collapsed": true,
    "scrolled": true
   },
   "outputs": [],
   "source": [
    "def save_model(model, path):\n",
    "    torch.save(model.state_dict(), path)\n",
    "\n",
    "def test(model, device, test_loader):\n",
    "    correct = 0\n",
    "    total_loss = 0\n",
    "    crossentropy = nn.CrossEntropyLoss()\n",
    "    with torch.no_grad():\n",
    "        for data in test_loader:\n",
    "            x, y = data\n",
    "            x = x.to(device)\n",
    "            y = y.to(device)\n",
    "            out = model(x)\n",
    "            total_loss += crossentropy(out, y).item() # detach the history\n",
    "            _, pred = torch.max(out.data, 1)\n",
    "            correct += (pred==y).sum().item()\n",
    "\n",
    "    acc = correct/len(test_loader.dataset)\n",
    "    loss = total_loss/len(test_loader.dataset)\n",
    "    return acc, loss\n",
    "\n",
    "def train(model, device, train_loader, test_loader, optimizer, n_epochs):\n",
    "    crossentropy = nn.CrossEntropyLoss()\n",
    "    train_loss = []\n",
    "    test_loss = []\n",
    "\n",
    "    for epoch in range(n_epochs):\n",
    "        train_total_loss = 0\n",
    "        for data in tqdm(train_loader):\n",
    "            x, y = data\n",
    "            x = x.to(device)\n",
    "            y = y.to(device)\n",
    "            optimizer.zero_grad()\n",
    "            out = model(x)\n",
    "            loss = crossentropy(out, y)\n",
    "            train_total_loss += loss.item()\n",
    "            loss.backward()\n",
    "            optimizer.step()\n",
    "        train_loss.append(train_total_loss / len(train_loader.dataset) )\n",
    "        _, test_loss_ave = test(model, device, test_loader)\n",
    "        test_loss.append(test_loss_ave)\n",
    "        save_model(model, \"model\")\n",
    "\n",
    "    return train_loss, test_loss"
   ]
  },
  {
   "cell_type": "code",
   "execution_count": 5,
   "metadata": {
    "collapsed": true
   },
   "outputs": [],
   "source": [
    "import matplotlib.pyplot as plt\n",
    "%matplotlib inline\n",
    "\n",
    "def plot_loss(train_loss, test_loss):\n",
    "    x = np.arange(len(train_loss))\n",
    "    plt.plot(x, train_loss)\n",
    "    plt.plot(x, test_loss)\n",
    "    plt.xlabel(\"epoch\")\n",
    "    plt.ylabel(\"loss\")\n",
    "    plt.legend([\"train\", \"test\"])"
   ]
  },
  {
   "cell_type": "code",
   "execution_count": 89,
   "metadata": {
    "scrolled": true
   },
   "outputs": [
    {
     "name": "stderr",
     "output_type": "stream",
     "text": [
      "100%|██████████| 469/469 [00:01<00:00, 244.17it/s]\n",
      "100%|██████████| 469/469 [00:01<00:00, 244.03it/s]\n",
      "100%|██████████| 469/469 [00:01<00:00, 238.38it/s]\n",
      "100%|██████████| 469/469 [00:01<00:00, 238.09it/s]\n",
      "100%|██████████| 469/469 [00:01<00:00, 242.16it/s]\n",
      "100%|██████████| 469/469 [00:01<00:00, 237.78it/s]\n",
      "100%|██████████| 469/469 [00:01<00:00, 241.42it/s]\n",
      "100%|██████████| 469/469 [00:01<00:00, 242.93it/s]\n",
      "100%|██████████| 469/469 [00:02<00:00, 231.95it/s]\n",
      "100%|██████████| 469/469 [00:02<00:00, 229.76it/s]\n",
      "100%|██████████| 469/469 [00:02<00:00, 233.58it/s]\n",
      "100%|██████████| 469/469 [00:01<00:00, 238.45it/s]\n",
      "100%|██████████| 469/469 [00:01<00:00, 242.09it/s]\n",
      "100%|██████████| 469/469 [00:01<00:00, 243.34it/s]\n",
      "100%|██████████| 469/469 [00:01<00:00, 242.19it/s]\n",
      "100%|██████████| 469/469 [00:01<00:00, 242.90it/s]\n",
      "100%|██████████| 469/469 [00:01<00:00, 239.57it/s]\n",
      "100%|██████████| 469/469 [00:01<00:00, 241.63it/s]\n",
      "100%|██████████| 469/469 [00:01<00:00, 244.00it/s]\n",
      "100%|██████████| 469/469 [00:01<00:00, 244.26it/s]\n"
     ]
    },
    {
     "data": {
      "image/png": "[encoded data removed]",
      "text/plain": [
       "<matplotlib.figure.Figure at 0x7fb18b5e3e10>"
      ]
     },
     "metadata": {},
     "output_type": "display_data"
    }
   ],
   "source": [
    "model = MyModel()\n",
    "device = torch.device(\"cuda:0\")\n",
    "model = model.to(device)\n",
    "adam = opt.Adam(model.parameters(), lr=0.00001)\n",
    "\n",
    "train_loss, test_loss = train(model=model, device=device, train_loader=train_loader, test_loader=test_loader,\n",
    "                              optimizer=adam, n_epochs=20)\n",
    "plot_loss(train_loss, test_loss)"
   ]
  },
  {
   "cell_type": "code",
   "execution_count": 90,
   "metadata": {},
   "outputs": [
    {
     "name": "stdout",
     "output_type": "stream",
     "text": [
      "Accuracy: 0.9803\n"
     ]
    }
   ],
   "source": [
    "acc, _ = test(model, device, test_loader)\n",
    "print(\"Accuracy:\", acc)"
   ]
  },
  {
   "cell_type": "code",
   "execution_count": 75,
   "metadata": {},
   "outputs": [
    {
     "name": "stdout",
     "output_type": "stream",
     "text": [
      "(0.9812, 0.011733883583545685)\n"
     ]
    }
   ],
   "source": [
    "# load saved model\n",
    "m = MyModel()\n",
    "m.load_state_dict(torch.load(\"model\"))\n",
    "m = m.to(device)\n",
    "print(test(m, device, test_loader))"
   ]
  },
  {
   "cell_type": "code",
   "execution_count": 21,
   "metadata": {
    "scrolled": false
   },
   "outputs": [
    {
     "data": {
      "text/plain": [
       "tensor([[ 2.0341e-07,  2.0341e-07,  4.5214e-07,  ...,  2.0341e-07,\n",
       "          2.4980e-05,  2.0341e-07],\n",
       "        [ 7.7772e-06,  7.7772e-06,  2.6350e-01,  ...,  7.7772e-06,\n",
       "          7.3636e-01,  7.7772e-06],\n",
       "        [ 3.3785e-08,  3.3785e-08,  1.9098e-03,  ...,  3.3785e-08,\n",
       "          8.9708e-08,  3.3785e-08],\n",
       "        ...,\n",
       "        [ 1.2176e-04,  4.2380e-02,  1.2176e-04,  ...,  1.2176e-04,\n",
       "          5.2136e-03,  1.2176e-04],\n",
       "        [ 1.1864e-05,  1.1864e-05,  5.7753e-01,  ...,  7.1061e-03,\n",
       "          1.1864e-05,  1.1864e-05],\n",
       "        [ 1.4044e-04,  1.4044e-04,  2.0889e-04,  ...,  1.4044e-04,\n",
       "          6.5220e-01,  1.4044e-04]])"
      ]
     },
     "execution_count": 21,
     "metadata": {},
     "output_type": "execute_result"
    }
   ],
   "source": [
    "# Export models with ONNX format\n",
    "model_ex = model.cpu() # can't export the model on GPU\n",
    "x_= torch.randn(128, 1, 28, 28) # dummy input is requred\n",
    "torch.onnx._export(model_ex,x_,\"model.onnx\", export_params=True) "
   ]
  }
 ],
 "metadata": {
  "kernelspec": {
   "display_name": "Python 3",
   "language": "python",
   "name": "python3"
  },
  "language_info": {
   "codemirror_mode": {
    "name": "ipython",
    "version": 3
   },
   "file_extension": ".py",
   "mimetype": "text/x-python",
   "name": "python",
   "nbconvert_exporter": "python",
   "pygments_lexer": "ipython3",
   "version": "3.6.1"
  }
 },
 "nbformat": 4,
 "nbformat_minor": 2
}
